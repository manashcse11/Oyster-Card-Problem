{
 "cells": [
  {
   "cell_type": "markdown",
   "metadata": {},
   "source": [
    "## Oyster Card System\n",
    "\n",
    "#### This notebook is consist of a lean solution(fewer than 50 lines of code) including instruction to run the code lines for Oyster Card System to load and update balance of commuters after every journey either by tube or bus. This solution is simple, completely scalable and can be applied to large data sets with all possible stations(with in zone of 1,2 and 3) and all journey combinations for London's Oyster Card System. I also attached a notepad consisting these code block to run offline in a python environment/IDE like Jupyter or Spyder.\n",
    "\n",
    "#### - Instruction: This is a PDF and HTML of original Jupyter notebook. To run this codes refer the notepad(.py file) and copy paste it in a Jupyter notebook and after every code block enter shift+enter to execute the code block. You will get the same output after execution every code block. \n",
    "\n",
    "#### Assumption: London tube rail, as a radial network system, I assume that any station in zone 3 from any station in zone 1 will be travelled only by crossing zone 2. So eventually the journey will come under the fare category of 'Any three zones'(3.2£) not under the category of 'Any two zones including zone 1'(3.00£). "
   ]
  },
  {
   "cell_type": "markdown",
   "metadata": {},
   "source": [
    "#### First let's import all the necessary packages for this solution and read two tables- \n",
    "\n",
    "#### 1) Fare Chart(table to lookup fare for any journey)\n",
    "#### 2) Station-zone(table to lookup zone details for source and destination for any journey) - I created a dummy zone(0) for Chelsea to  calculate bus fare for Earl's Court to Chelsea.\n",
    "\n",
    "#### Instruction to run: copy paste it in a Jupyter notebook and enter shift+enter to execute the code block."
   ]
  },
  {
   "cell_type": "code",
   "execution_count": 1,
   "metadata": {},
   "outputs": [
    {
     "name": "stdout",
     "output_type": "stream",
     "text": [
      "                          Journey  Fare\n",
      "0                 Anywhere zone 1  2.50\n",
      "1     Any one zone outside zone 1  2.00\n",
      "2  Any two zones including zone 1  3.00\n",
      "3  Any two zones excluding zone 1  2.25\n",
      "4                 Any three zones  3.20\n",
      "5                 Any bus journey  1.80\n"
     ]
    },
    {
     "data": {
      "text/html": [
       "<div>\n",
       "<style scoped>\n",
       "    .dataframe tbody tr th:only-of-type {\n",
       "        vertical-align: middle;\n",
       "    }\n",
       "\n",
       "    .dataframe tbody tr th {\n",
       "        vertical-align: top;\n",
       "    }\n",
       "\n",
       "    .dataframe thead th {\n",
       "        text-align: right;\n",
       "    }\n",
       "</style>\n",
       "<table border=\"1\" class=\"dataframe\">\n",
       "  <thead>\n",
       "    <tr style=\"text-align: right;\">\n",
       "      <th></th>\n",
       "      <th>Station</th>\n",
       "      <th>Zone</th>\n",
       "    </tr>\n",
       "  </thead>\n",
       "  <tbody>\n",
       "    <tr>\n",
       "      <th>0</th>\n",
       "      <td>Holborn</td>\n",
       "      <td>1</td>\n",
       "    </tr>\n",
       "    <tr>\n",
       "      <th>1</th>\n",
       "      <td>Earl's Court</td>\n",
       "      <td>1 2</td>\n",
       "    </tr>\n",
       "    <tr>\n",
       "      <th>2</th>\n",
       "      <td>Wimbledon</td>\n",
       "      <td>3</td>\n",
       "    </tr>\n",
       "    <tr>\n",
       "      <th>3</th>\n",
       "      <td>Hammersmith</td>\n",
       "      <td>2</td>\n",
       "    </tr>\n",
       "    <tr>\n",
       "      <th>4</th>\n",
       "      <td>Chelsea</td>\n",
       "      <td>0</td>\n",
       "    </tr>\n",
       "  </tbody>\n",
       "</table>\n",
       "</div>"
      ],
      "text/plain": [
       "        Station Zone\n",
       "0       Holborn    1\n",
       "1  Earl's Court  1 2\n",
       "2     Wimbledon    3\n",
       "3   Hammersmith    2\n",
       "4       Chelsea    0"
      ]
     },
     "execution_count": 1,
     "metadata": {},
     "output_type": "execute_result"
    }
   ],
   "source": [
    "#Necessary packages\n",
    "\n",
    "import os\n",
    "import numpy as np\n",
    "import pandas as pd\n",
    "\n",
    "\n",
    "# Get fare and Station-zone data\n",
    "\n",
    "os.chdir('D:/data_science/alef_code')\n",
    "fare_chart = pd.read_csv('alef_fare.csv')\n",
    "staton_zone = pd.read_csv('station_zone.csv')\n",
    "print(fare_chart)\n",
    "staton_zone.head()"
   ]
  },
  {
   "cell_type": "markdown",
   "metadata": {},
   "source": [
    "."
   ]
  },
  {
   "cell_type": "markdown",
   "metadata": {},
   "source": [
    "#### Function block to load Oyster Card with any amount"
   ]
  },
  {
   "cell_type": "code",
   "execution_count": 2,
   "metadata": {},
   "outputs": [],
   "source": [
    "def load_card(amount):\n",
    "    initial_balance = amount\n",
    "    return initial_balance"
   ]
  },
  {
   "cell_type": "markdown",
   "metadata": {},
   "source": [
    "#### Function block to get zones for source station and destination station from Station-zone look up table. Also System gets information about mode of travel(e.g. Tube legitimate jouney or Bus or through the inward barrier at the station)\n",
    "\n",
    "#### Instruction to run: copy paste it in a Jupyter notebook and enter shift+enter to execute the code block."
   ]
  },
  {
   "cell_type": "code",
   "execution_count": 3,
   "metadata": {},
   "outputs": [],
   "source": [
    "#Function to get source_zone and destination zone\n",
    "\n",
    "source_zone = []\n",
    "dest_zone = []\n",
    "def get_zone(source_station,dest_station,mode):\n",
    "    return staton_zone.loc[staton_zone.Station == source_station, 'Zone'],staton_zone.loc[staton_zone.Station == dest_station, 'Zone'],mode"
   ]
  },
  {
   "cell_type": "code",
   "execution_count": 9,
   "metadata": {},
   "outputs": [
    {
     "name": "stdout",
     "output_type": "stream",
     "text": [
      "source zone is: 0    1\n",
      "Name: Zone, dtype: object\n",
      "destination zone is: 1    1 2\n",
      "Name: Zone, dtype: object\n",
      "transportation mode is: tube_legitimate\n"
     ]
    }
   ],
   "source": [
    "#testing funtion\n",
    "\n",
    "source_zone,dest_zone,mode =  get_zone(source_station=\"Holborn\",dest_station = \"Earl's Court\",mode='tube_legitimate')\n",
    "print('source zone is:', source_zone)\n",
    "print('destination zone is:', dest_zone)\n",
    "print('transportation mode is:', mode)      "
   ]
  },
  {
   "cell_type": "markdown",
   "metadata": {},
   "source": [
    "."
   ]
  },
  {
   "cell_type": "markdown",
   "metadata": {},
   "source": [
    "#### Function block to get fare from Fare look up table after inputting source station zone, destination station zone and mode of travel. System favour the customer in case of more than one possible fare(in case a station comes under two zones, e.g. Holborn to Earl’s Court fare would be 2.5 Pounds not 3 Pounds)\n",
    "\n",
    "#### Instruction to run: copy paste it in a Jupyter notebook and enter shift+enter to execute the code block."
   ]
  },
  {
   "cell_type": "code",
   "execution_count": 13,
   "metadata": {},
   "outputs": [],
   "source": [
    "#Fare calculation function\n",
    "\n",
    "fare = []\n",
    "source_zone = []\n",
    "dest_zone = []\n",
    "def fare_calculation(source_station,dest_station,mode,staton_zone,fare_chart):\n",
    "    \n",
    "    source_zone = staton_zone.loc[staton_zone.Station == source_station, 'Zone']\n",
    "    dest_zone = staton_zone.loc[staton_zone.Station == dest_station, 'Zone']\n",
    "    if mode == 'tube_legitimate':\n",
    "        if '1' in str(list(source_zone)) and '1' in str(list(dest_zone)):\n",
    "            fare = fare_chart['Fare'][0]\n",
    "        elif '1' in str(list(source_zone)) and '3' in str(list(dest_zone)):    \n",
    "            fare = fare_chart['Fare'][4]\n",
    "        elif ('2' in str(list(source_zone)) and '2' in str(list(dest_zone))) or ('3' in str(list(source_zone)) and '3' in str(list(dest_zone))):\n",
    "            fare = fare_chart['Fare'][1]\n",
    "        elif ('2' in str(list(source_zone)) and '3' in str(list(dest_zone))) or ('3' in str(list(source_zone)) and '2' in str(list(dest_zone))):\n",
    "            fare = fare_chart['Fare'][3]    \n",
    "        elif ('1' in str(list(source_zone)) and '2' in str(list(dest_zone))) or ('2' in str(list(source_zone)) and '1' in str(list(dest_zone))):\n",
    "            fare = fare_chart['Fare'][2]\n",
    "        else:    \n",
    "            fare = fare_chart['Fare'][4]    \n",
    "\n",
    "    elif mode == 'bus':\n",
    "        fare = fare_chart['Fare'][5]\n",
    "\n",
    "#Will take care of passes through the inward barrier at the station\n",
    "    else:\n",
    "        fare = fare_chart['Fare'][4]\n",
    "    return fare     "
   ]
  },
  {
   "cell_type": "code",
   "execution_count": 22,
   "metadata": {},
   "outputs": [
    {
     "name": "stdout",
     "output_type": "stream",
     "text": [
      "fare for Holborn to Earl Court by tube is:2.5 £\n"
     ]
    }
   ],
   "source": [
    "print('fare for Holborn to Earl Court by tube is:' + str(fare_calculation(source_station=\"Holborn\",dest_station = \"Earl's Court\", mode = 'tube_legitimate',staton_zone=staton_zone, fare_chart=fare_chart)) + ' £')"
   ]
  },
  {
   "cell_type": "markdown",
   "metadata": {},
   "source": [
    "."
   ]
  },
  {
   "cell_type": "markdown",
   "metadata": {},
   "source": [
    "## Testing in a Real Scenario:\n",
    "\n",
    "#### Testing the system for demonstrate loading of card for a user with 30 £ and update balance after following three journey:\n",
    "\n",
    "##### - Tube Holborn to Earl’s Court\n",
    "##### - 328 bus from Earl’s Court to Chelsea\n",
    "##### - Tube Earl’s court to Hammersmith\n",
    "\n",
    "#### Instruction to run: copy paste it in a Jupyter notebook and enter shift+enter to execute the code block."
   ]
  },
  {
   "cell_type": "code",
   "execution_count": 6,
   "metadata": {},
   "outputs": [
    {
     "name": "stdout",
     "output_type": "stream",
     "text": [
      "card loaded with:30 Pounds\n",
      "fare for Holborn to Earl Court by tube:2.5 Pounds\n",
      "balance after this trip:27.5 Pounds\n",
      "fare for Earl Court to Chelsea by bus:1.8 Pounds\n",
      "balance after this trip:25.7 Pounds\n",
      "fare for Earl Court to Hammersmith by bus:2.0 Pounds\n",
      "balance after this trip:23.7 Pounds\n"
     ]
    }
   ],
   "source": [
    "#Calculation fare and updating balance\n",
    "\n",
    "#Loading card with 30 Pounds\n",
    "initial_bal = load_card(30)\n",
    "print('card loaded with:' + str(initial_bal) + ' Pounds')\n",
    "\n",
    "#Update after Tube Holborn to Earl’s Court\n",
    "source_zone,dest_zone,mode =  get_zone(source_station=\"Holborn\",dest_station = \"Earl's Court\",mode='tube_legitimate')\n",
    "balance = initial_bal - fare_calculation(source_zone, dest_zone,mode)\n",
    "print('fare for Holborn to Earl Court by tube:' + str(fare_calculation(source_zone, dest_zone,mode)) + ' Pounds')\n",
    "print('balance after this trip:' + str(balance) + ' Pounds')\n",
    "\n",
    "#328 bus from Earl’s Court to Chelsea- (To run the code correctly I put a dummy zone for Chelsea)\n",
    "source_zone,dest_zone,mode =  get_zone(source_station=\"Earl's Court\",dest_station = \"Chelsea\",mode='bus')\n",
    "balance = balance - fare_calculation(source_zone, dest_zone,mode)\n",
    "print('fare for Earl Court to Chelsea by bus:' + str(fare_calculation(source_zone, dest_zone,mode)) + ' Pounds')\n",
    "print('balance after this trip:' + str(balance) + ' Pounds')\n",
    "\n",
    "#Tube Earl’s court to Hammersmith\n",
    "source_zone,dest_zone,mode =  get_zone(source_station=\"Earl's Court\",dest_station = \"Hammersmith\",mode='tube_legitimate')\n",
    "balance = balance - fare_calculation(source_zone, dest_zone,mode)\n",
    "print('fare for Earl Court to Hammersmith by bus:' + str(fare_calculation(source_zone, dest_zone,mode)) + ' Pounds')\n",
    "print('balance after this trip:' + str(balance) + ' Pounds')"
   ]
  },
  {
   "cell_type": "markdown",
   "metadata": {},
   "source": [
    "##                                                              Thank You"
   ]
  }
 ],
 "metadata": {
  "kernelspec": {
   "display_name": "Python 3",
   "language": "python",
   "name": "python3"
  },
  "language_info": {
   "codemirror_mode": {
    "name": "ipython",
    "version": 3
   },
   "file_extension": ".py",
   "mimetype": "text/x-python",
   "name": "python",
   "nbconvert_exporter": "python",
   "pygments_lexer": "ipython3",
   "version": "3.6.5"
  }
 },
 "nbformat": 4,
 "nbformat_minor": 2
}
